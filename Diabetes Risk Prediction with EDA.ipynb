{
 "cells": [
  {
   "cell_type": "markdown",
   "id": "5a4f9065",
   "metadata": {},
   "source": [
    "# Diabetes Risk Prediction with EDA\n",
    "\n",
    "***Bartlomiej Lesniowski***\n",
    "\n",
    "***11.12.2024***"
   ]
  },
  {
   "cell_type": "markdown",
   "id": "65a22ae4",
   "metadata": {},
   "source": [
    "# Introduction"
   ]
  },
  {
   "cell_type": "markdown",
   "id": "ebe5bb8f",
   "metadata": {},
   "source": [
    "### Description from Kaggle.com"
   ]
  },
  {
   "cell_type": "markdown",
   "id": "b3a5806a",
   "metadata": {},
   "source": [
    "The dataset used for diabetes prediction in this project serves as a comprehensive tool for understanding and managing diabetes risk factors. This dataset was synthetically generated to resemble real-world health information, covering data from 2021 to 2023. It incorporates various health metrics essential for diabetes risk assessment and prediction, making it ideal for training machine learning models like XGBoost.\n",
    "\n",
    "The dataset is structured to include user demographic data, health metrics, and lifestyle-related features, all of which are critical in identifying diabetes risk levels. It aims to provide a realistic value distribution that aids in the prediction and personalized health recommendation process."
   ]
  },
  {
   "cell_type": "markdown",
   "id": "1cf2a5f2",
   "metadata": {},
   "source": [
    "# Preaparation of the dataset"
   ]
  },
  {
   "cell_type": "markdown",
   "id": "cc77e836",
   "metadata": {},
   "source": [
    "### Import necessary libraries"
   ]
  },
  {
   "cell_type": "code",
   "execution_count": 1,
   "id": "42442d8c",
   "metadata": {},
   "outputs": [],
   "source": [
    "import pandas as pd\n",
    "import numpy as np\n",
    "import seaborn as sns\n",
    "import matplotlib.pyplot as plt\n",
    "\n",
    "pd.set_option('display.max_colwidth', None)\n",
    "pd.set_option('display.float_format', lambda x: '%.2f' % x)"
   ]
  },
  {
   "cell_type": "markdown",
   "id": "28b31420",
   "metadata": {},
   "source": [
    "### Data dictionary"
   ]
  },
  {
   "cell_type": "code",
   "execution_count": 2,
   "id": "e76b0210",
   "metadata": {},
   "outputs": [
    {
     "data": {
      "text/html": [
       "<div>\n",
       "<style scoped>\n",
       "    .dataframe tbody tr th:only-of-type {\n",
       "        vertical-align: middle;\n",
       "    }\n",
       "\n",
       "    .dataframe tbody tr th {\n",
       "        vertical-align: top;\n",
       "    }\n",
       "\n",
       "    .dataframe thead th {\n",
       "        text-align: right;\n",
       "    }\n",
       "</style>\n",
       "<table border=\"1\" class=\"dataframe\">\n",
       "  <thead>\n",
       "    <tr style=\"text-align: right;\">\n",
       "      <th></th>\n",
       "      <th>Column_Name</th>\n",
       "      <th>Column_Description</th>\n",
       "    </tr>\n",
       "  </thead>\n",
       "  <tbody>\n",
       "    <tr>\n",
       "      <th>0</th>\n",
       "      <td>User ID</td>\n",
       "      <td>Unique identifier assigned to each user to ensure data privacy and tracking.</td>\n",
       "    </tr>\n",
       "    <tr>\n",
       "      <th>1</th>\n",
       "      <td>Data</td>\n",
       "      <td>Represents the specific date for each record, indicating the time-series nature of the dataset.</td>\n",
       "    </tr>\n",
       "    <tr>\n",
       "      <th>2</th>\n",
       "      <td>Weight (kg)</td>\n",
       "      <td>The user's body weight in kilograms. Weight is a significant factor in determining obesity-related risks.</td>\n",
       "    </tr>\n",
       "    <tr>\n",
       "      <th>3</th>\n",
       "      <td>Height (cm)</td>\n",
       "      <td>Height of the user, measured in centimeters. This, combined with weight, helps calculate BMI, a key predictor of diabetes risk.</td>\n",
       "    </tr>\n",
       "    <tr>\n",
       "      <th>4</th>\n",
       "      <td>Blood Glucose (mg/dL)</td>\n",
       "      <td>The user's blood glucose level in milligrams per deciliter. This is one of the most crucial indicators for diagnosing diabetes, with values typically ranging between 70 and 300 mg/dL.</td>\n",
       "    </tr>\n",
       "    <tr>\n",
       "      <th>5</th>\n",
       "      <td>Physical Activity (minutes/day)</td>\n",
       "      <td>The daily duration of physical activity, measured in minutes. Physical activity plays a critical role in managing blood glucose levels and reducing diabetes risk.</td>\n",
       "    </tr>\n",
       "    <tr>\n",
       "      <th>6</th>\n",
       "      <td>Diet Quality</td>\n",
       "      <td>A categorical variable describing the quality of the user's diet, labeled as either 'healthy' or 'unhealthy'. Diet plays an important role in diabetes prevention and management.</td>\n",
       "    </tr>\n",
       "    <tr>\n",
       "      <th>7</th>\n",
       "      <td>Medication Adherence</td>\n",
       "      <td>Indicates the extent of the user's adherence to prescribed medication, categorized as 'good' or 'poor'. Proper adherence is crucial for managing blood glucose levels effectively.</td>\n",
       "    </tr>\n",
       "    <tr>\n",
       "      <th>8</th>\n",
       "      <td>Stress Level</td>\n",
       "      <td>The stress level reported by the user, categorized as 'low', 'medium', or 'high'. Chronic stress can significantly impact blood glucose levels and contribute to diabetes risk.</td>\n",
       "    </tr>\n",
       "    <tr>\n",
       "      <th>9</th>\n",
       "      <td>Sleep Duration (hours)</td>\n",
       "      <td>The number of hours the user sleeps each day. Adequate sleep is vital for maintaining overall health and stabilizing blood sugar levels.</td>\n",
       "    </tr>\n",
       "    <tr>\n",
       "      <th>10</th>\n",
       "      <td>Hydration Status</td>\n",
       "      <td>Indicates whether the user is adequately hydrated, with values of 'yes' or 'no'. Proper hydration supports optimal body function, which includes maintaining blood glucose balance.</td>\n",
       "    </tr>\n",
       "    <tr>\n",
       "      <th>11</th>\n",
       "      <td>BMI</td>\n",
       "      <td>Body Mass Index, calculated using the weight and height of the user. BMI is an important indicator of whether an individual is underweight, of normal weight, overweight, or obese, which is directly linked to diabetes risk.</td>\n",
       "    </tr>\n",
       "    <tr>\n",
       "      <th>12</th>\n",
       "      <td>Risk Score</td>\n",
       "      <td>The calculated risk score for each user, generated based on various health metrics. This score helps categorize users into different risk levels: - Low Risk (&lt; 30) -  Users are considered to have a low likelihood of developing diabetes. - Moderate Risk (30-60) -  Users are given preventive advice to lower their risk. - High Risk (&gt; 60) -  Users are at high risk and receive urgent recommendations to manage their condition.</td>\n",
       "    </tr>\n",
       "  </tbody>\n",
       "</table>\n",
       "</div>"
      ],
      "text/plain": [
       "                        Column_Name  \\\n",
       "0                           User ID   \n",
       "1                              Data   \n",
       "2                       Weight (kg)   \n",
       "3                       Height (cm)   \n",
       "4             Blood Glucose (mg/dL)   \n",
       "5   Physical Activity (minutes/day)   \n",
       "6                      Diet Quality   \n",
       "7              Medication Adherence   \n",
       "8                      Stress Level   \n",
       "9            Sleep Duration (hours)   \n",
       "10                 Hydration Status   \n",
       "11                              BMI   \n",
       "12                       Risk Score   \n",
       "\n",
       "                                                                                                                                                                                                                                                                                                                                                                                                                            Column_Description  \n",
       "0                                                                                                                                                                                                                                                                                                                                                                 Unique identifier assigned to each user to ensure data privacy and tracking.  \n",
       "1                                                                                                                                                                                                                                                                                                                                              Represents the specific date for each record, indicating the time-series nature of the dataset.  \n",
       "2                                                                                                                                                                                                                                                                                                                                    The user's body weight in kilograms. Weight is a significant factor in determining obesity-related risks.  \n",
       "3                                                                                                                                                                                                                                                                                                              Height of the user, measured in centimeters. This, combined with weight, helps calculate BMI, a key predictor of diabetes risk.  \n",
       "4                                                                                                                                                                                                                                                      The user's blood glucose level in milligrams per deciliter. This is one of the most crucial indicators for diagnosing diabetes, with values typically ranging between 70 and 300 mg/dL.  \n",
       "5                                                                                                                                                                                                                                                                           The daily duration of physical activity, measured in minutes. Physical activity plays a critical role in managing blood glucose levels and reducing diabetes risk.  \n",
       "6                                                                                                                                                                                                                                                            A categorical variable describing the quality of the user's diet, labeled as either 'healthy' or 'unhealthy'. Diet plays an important role in diabetes prevention and management.  \n",
       "7                                                                                                                                                                                                                                                           Indicates the extent of the user's adherence to prescribed medication, categorized as 'good' or 'poor'. Proper adherence is crucial for managing blood glucose levels effectively.  \n",
       "8                                                                                                                                                                                                                                                              The stress level reported by the user, categorized as 'low', 'medium', or 'high'. Chronic stress can significantly impact blood glucose levels and contribute to diabetes risk.  \n",
       "9                                                                                                                                                                                                                                                                                                     The number of hours the user sleeps each day. Adequate sleep is vital for maintaining overall health and stabilizing blood sugar levels.  \n",
       "10                                                                                                                                                                                                                                                         Indicates whether the user is adequately hydrated, with values of 'yes' or 'no'. Proper hydration supports optimal body function, which includes maintaining blood glucose balance.  \n",
       "11                                                                                                                                                                                                              Body Mass Index, calculated using the weight and height of the user. BMI is an important indicator of whether an individual is underweight, of normal weight, overweight, or obese, which is directly linked to diabetes risk.  \n",
       "12   The calculated risk score for each user, generated based on various health metrics. This score helps categorize users into different risk levels: - Low Risk (< 30) -  Users are considered to have a low likelihood of developing diabetes. - Moderate Risk (30-60) -  Users are given preventive advice to lower their risk. - High Risk (> 60) -  Users are at high risk and receive urgent recommendations to manage their condition.  "
      ]
     },
     "execution_count": 2,
     "metadata": {},
     "output_type": "execute_result"
    }
   ],
   "source": [
    "description = pd.read_excel('Diabetes Description.xlsx')\n",
    "description"
   ]
  },
  {
   "cell_type": "markdown",
   "id": "ccfd5bd6",
   "metadata": {},
   "source": [
    "### Download data from kagglehub"
   ]
  },
  {
   "cell_type": "code",
   "execution_count": 3,
   "id": "18e49cf7",
   "metadata": {},
   "outputs": [],
   "source": [
    "#import kagglehub\n",
    "\n",
    "# Download latest version\n",
    "#path = kagglehub.dataset_download(\"kevintan701/diabetes-prediction-datasets\")\n",
    "\n",
    "#print(\"Path to dataset files:\", path)"
   ]
  },
  {
   "cell_type": "code",
   "execution_count": 4,
   "id": "97465923",
   "metadata": {},
   "outputs": [],
   "source": [
    "diabetes = pd.read_csv('diabetes_data.csv')"
   ]
  },
  {
   "cell_type": "code",
   "execution_count": 5,
   "id": "b5bb086e",
   "metadata": {},
   "outputs": [
    {
     "data": {
      "text/html": [
       "<div>\n",
       "<style scoped>\n",
       "    .dataframe tbody tr th:only-of-type {\n",
       "        vertical-align: middle;\n",
       "    }\n",
       "\n",
       "    .dataframe tbody tr th {\n",
       "        vertical-align: top;\n",
       "    }\n",
       "\n",
       "    .dataframe thead th {\n",
       "        text-align: right;\n",
       "    }\n",
       "</style>\n",
       "<table border=\"1\" class=\"dataframe\">\n",
       "  <thead>\n",
       "    <tr style=\"text-align: right;\">\n",
       "      <th></th>\n",
       "      <th>user_id</th>\n",
       "      <th>date</th>\n",
       "      <th>weight</th>\n",
       "      <th>height</th>\n",
       "      <th>blood_glucose</th>\n",
       "      <th>physical_activity</th>\n",
       "      <th>diet</th>\n",
       "      <th>medication_adherence</th>\n",
       "      <th>stress_level</th>\n",
       "      <th>sleep_hours</th>\n",
       "      <th>hydration_level</th>\n",
       "      <th>bmi</th>\n",
       "      <th>risk_score</th>\n",
       "    </tr>\n",
       "  </thead>\n",
       "  <tbody>\n",
       "    <tr>\n",
       "      <th>0</th>\n",
       "      <td>1</td>\n",
       "      <td>2021-01-01</td>\n",
       "      <td>77.45</td>\n",
       "      <td>183.99</td>\n",
       "      <td>112.99</td>\n",
       "      <td>0.00</td>\n",
       "      <td>1</td>\n",
       "      <td>0</td>\n",
       "      <td>1</td>\n",
       "      <td>6.34</td>\n",
       "      <td>1</td>\n",
       "      <td>22.90</td>\n",
       "      <td>38.00</td>\n",
       "    </tr>\n",
       "    <tr>\n",
       "      <th>1</th>\n",
       "      <td>2</td>\n",
       "      <td>2021-01-02</td>\n",
       "      <td>67.93</td>\n",
       "      <td>179.25</td>\n",
       "      <td>134.22</td>\n",
       "      <td>12.79</td>\n",
       "      <td>0</td>\n",
       "      <td>1</td>\n",
       "      <td>2</td>\n",
       "      <td>10.66</td>\n",
       "      <td>1</td>\n",
       "      <td>21.10</td>\n",
       "      <td>39.16</td>\n",
       "    </tr>\n",
       "    <tr>\n",
       "      <th>2</th>\n",
       "      <td>3</td>\n",
       "      <td>2021-01-03</td>\n",
       "      <td>79.72</td>\n",
       "      <td>170.60</td>\n",
       "      <td>108.30</td>\n",
       "      <td>21.73</td>\n",
       "      <td>1</td>\n",
       "      <td>1</td>\n",
       "      <td>0</td>\n",
       "      <td>6.00</td>\n",
       "      <td>1</td>\n",
       "      <td>27.40</td>\n",
       "      <td>31.48</td>\n",
       "    </tr>\n",
       "    <tr>\n",
       "      <th>3</th>\n",
       "      <td>4</td>\n",
       "      <td>2021-01-04</td>\n",
       "      <td>92.85</td>\n",
       "      <td>163.53</td>\n",
       "      <td>127.68</td>\n",
       "      <td>67.75</td>\n",
       "      <td>1</td>\n",
       "      <td>0</td>\n",
       "      <td>1</td>\n",
       "      <td>7.96</td>\n",
       "      <td>1</td>\n",
       "      <td>34.70</td>\n",
       "      <td>45.00</td>\n",
       "    </tr>\n",
       "    <tr>\n",
       "      <th>4</th>\n",
       "      <td>5</td>\n",
       "      <td>2021-01-05</td>\n",
       "      <td>66.49</td>\n",
       "      <td>176.98</td>\n",
       "      <td>70.00</td>\n",
       "      <td>41.13</td>\n",
       "      <td>1</td>\n",
       "      <td>1</td>\n",
       "      <td>0</td>\n",
       "      <td>6.77</td>\n",
       "      <td>1</td>\n",
       "      <td>21.20</td>\n",
       "      <td>4.72</td>\n",
       "    </tr>\n",
       "  </tbody>\n",
       "</table>\n",
       "</div>"
      ],
      "text/plain": [
       "   user_id        date  weight  height  blood_glucose  physical_activity  \\\n",
       "0        1  2021-01-01   77.45  183.99         112.99               0.00   \n",
       "1        2  2021-01-02   67.93  179.25         134.22              12.79   \n",
       "2        3  2021-01-03   79.72  170.60         108.30              21.73   \n",
       "3        4  2021-01-04   92.85  163.53         127.68              67.75   \n",
       "4        5  2021-01-05   66.49  176.98          70.00              41.13   \n",
       "\n",
       "   diet  medication_adherence  stress_level  sleep_hours  hydration_level  \\\n",
       "0     1                     0             1         6.34                1   \n",
       "1     0                     1             2        10.66                1   \n",
       "2     1                     1             0         6.00                1   \n",
       "3     1                     0             1         7.96                1   \n",
       "4     1                     1             0         6.77                1   \n",
       "\n",
       "    bmi  risk_score  \n",
       "0 22.90       38.00  \n",
       "1 21.10       39.16  \n",
       "2 27.40       31.48  \n",
       "3 34.70       45.00  \n",
       "4 21.20        4.72  "
      ]
     },
     "execution_count": 5,
     "metadata": {},
     "output_type": "execute_result"
    }
   ],
   "source": [
    "diabetes.head()"
   ]
  },
  {
   "cell_type": "code",
   "execution_count": 6,
   "id": "17b49a94",
   "metadata": {},
   "outputs": [
    {
     "name": "stdout",
     "output_type": "stream",
     "text": [
      "<class 'pandas.core.frame.DataFrame'>\n",
      "RangeIndex: 1000 entries, 0 to 999\n",
      "Data columns (total 13 columns):\n",
      " #   Column                Non-Null Count  Dtype  \n",
      "---  ------                --------------  -----  \n",
      " 0   user_id               1000 non-null   int64  \n",
      " 1   date                  1000 non-null   object \n",
      " 2   weight                1000 non-null   float64\n",
      " 3   height                1000 non-null   float64\n",
      " 4   blood_glucose         1000 non-null   float64\n",
      " 5   physical_activity     1000 non-null   float64\n",
      " 6   diet                  1000 non-null   int64  \n",
      " 7   medication_adherence  1000 non-null   int64  \n",
      " 8   stress_level          1000 non-null   int64  \n",
      " 9   sleep_hours           1000 non-null   float64\n",
      " 10  hydration_level       1000 non-null   int64  \n",
      " 11  bmi                   1000 non-null   float64\n",
      " 12  risk_score            1000 non-null   float64\n",
      "dtypes: float64(7), int64(5), object(1)\n",
      "memory usage: 101.7+ KB\n"
     ]
    }
   ],
   "source": [
    "diabetes.info()"
   ]
  },
  {
   "cell_type": "markdown",
   "id": "1091c880",
   "metadata": {},
   "source": [
    "### Clearing the data"
   ]
  },
  {
   "cell_type": "code",
   "execution_count": 7,
   "id": "f10531a3",
   "metadata": {
    "scrolled": true
   },
   "outputs": [
    {
     "name": "stdout",
     "output_type": "stream",
     "text": [
      "---user_id---\n",
      "user_id\n",
      "1      1\n",
      "672    1\n",
      "659    1\n",
      "660    1\n",
      "661    1\n",
      "Name: count, dtype: int64\n",
      "---date---\n",
      "date\n",
      "2021-01-01    1\n",
      "2023-01-05    1\n",
      "2022-12-22    1\n",
      "2022-12-23    1\n",
      "2022-12-24    1\n",
      "Name: count, dtype: int64\n",
      "---weight---\n",
      "weight\n",
      "40.00    17\n",
      "77.45     1\n",
      "64.43     1\n",
      "67.83     1\n",
      "61.40     1\n",
      "Name: count, dtype: int64\n",
      "---height---\n",
      "height\n",
      "150.00    18\n",
      "200.00     2\n",
      "166.08     1\n",
      "159.93     1\n",
      "181.40     1\n",
      "Name: count, dtype: int64\n",
      "---blood_glucose---\n",
      "blood_glucose\n",
      "70.00     37\n",
      "112.99     1\n",
      "165.03     1\n",
      "96.32      1\n",
      "175.61     1\n",
      "Name: count, dtype: int64\n",
      "---physical_activity---\n",
      "physical_activity\n",
      "0.00     76\n",
      "33.21     1\n",
      "22.80     1\n",
      "15.44     1\n",
      "37.47     1\n",
      "Name: count, dtype: int64\n",
      "---diet---\n",
      "diet\n",
      "1    604\n",
      "0    396\n",
      "Name: count, dtype: int64\n",
      "---medication_adherence---\n",
      "medication_adherence\n",
      "1    693\n",
      "0    307\n",
      "Name: count, dtype: int64\n",
      "---stress_level---\n",
      "stress_level\n",
      "0    373\n",
      "2    323\n",
      "1    304\n",
      "Name: count, dtype: int64\n",
      "---sleep_hours---\n",
      "sleep_hours\n",
      "4.00     66\n",
      "12.00     9\n",
      "6.34      1\n",
      "6.92      1\n",
      "9.99      1\n",
      "Name: count, dtype: int64\n",
      "---hydration_level---\n",
      "hydration_level\n",
      "1    710\n",
      "0    290\n",
      "Name: count, dtype: int64\n",
      "---bmi---\n",
      "bmi\n",
      "25.80    13\n",
      "20.60    12\n",
      "24.40    11\n",
      "23.90    11\n",
      "24.10    11\n",
      "Name: count, dtype: int64\n",
      "---risk_score---\n",
      "risk_score\n",
      "25.00    10\n",
      "33.00    10\n",
      "53.00     9\n",
      "58.00     8\n",
      "20.00     8\n",
      "Name: count, dtype: int64\n"
     ]
    }
   ],
   "source": [
    "for c in diabetes.columns:\n",
    "    print('---' + c + '---')\n",
    "    print(diabetes[c].value_counts().head())"
   ]
  },
  {
   "cell_type": "markdown",
   "id": "73521ad9",
   "metadata": {},
   "source": [
    "As there are only unique values in columns 'user_id' and 'date', I will drop them"
   ]
  },
  {
   "cell_type": "code",
   "execution_count": 8,
   "id": "434659da",
   "metadata": {
    "scrolled": true
   },
   "outputs": [],
   "source": [
    "diabetes = diabetes.drop(['user_id', 'date'], axis = 1)"
   ]
  },
  {
   "cell_type": "code",
   "execution_count": 9,
   "id": "d32bf6a3",
   "metadata": {},
   "outputs": [
    {
     "name": "stdout",
     "output_type": "stream",
     "text": [
      "<class 'pandas.core.frame.DataFrame'>\n",
      "RangeIndex: 1000 entries, 0 to 999\n",
      "Data columns (total 11 columns):\n",
      " #   Column                Non-Null Count  Dtype  \n",
      "---  ------                --------------  -----  \n",
      " 0   weight                1000 non-null   float64\n",
      " 1   height                1000 non-null   float64\n",
      " 2   blood_glucose         1000 non-null   float64\n",
      " 3   physical_activity     1000 non-null   float64\n",
      " 4   diet                  1000 non-null   int64  \n",
      " 5   medication_adherence  1000 non-null   int64  \n",
      " 6   stress_level          1000 non-null   int64  \n",
      " 7   sleep_hours           1000 non-null   float64\n",
      " 8   hydration_level       1000 non-null   int64  \n",
      " 9   bmi                   1000 non-null   float64\n",
      " 10  risk_score            1000 non-null   float64\n",
      "dtypes: float64(7), int64(4)\n",
      "memory usage: 86.1 KB\n"
     ]
    }
   ],
   "source": [
    "diabetes.info()"
   ]
  },
  {
   "cell_type": "code",
   "execution_count": 10,
   "id": "bfdd6561",
   "metadata": {},
   "outputs": [
    {
     "data": {
      "image/png": "[encoded data removed]",
      "text/plain": [
       "<Figure size 640x480 with 1 Axes>"
      ]
     },
     "metadata": {},
     "output_type": "display_data"
    }
   ],
   "source": [
    "sns.histplot(diabetes['risk_score'], kde=True)\n",
    "plt.title('Distribution of Risk Scores')\n",
    "plt.xlabel('Risk Score')\n",
    "plt.ylabel('Frequency')\n",
    "plt.show()"
   ]
  },
  {
   "cell_type": "markdown",
   "id": "ebbb1279",
   "metadata": {},
   "source": [
    "## Feature engineering"
   ]
  },
  {
   "cell_type": "markdown",
   "id": "b7586e40",
   "metadata": {},
   "source": [
    "For better understanding of the dataset, I will convert the target feature 'risk-score' to 3 categories mentioned in dictionary:\n",
    "\n",
    "- Low Risk (< 30): Users are considered to have a low likelihood of developing diabetes.\n",
    "\n",
    "- Moderate Risk (30-60): Users are given preventive advice to lower their risk.\n",
    "\n",
    "- High Risk (> 60): Users are at high risk and receive urgent recommendations to manage their condition."
   ]
  },
  {
   "cell_type": "code",
   "execution_count": 11,
   "id": "2ab149d7",
   "metadata": {},
   "outputs": [],
   "source": [
    "r1 = diabetes['risk_score'] >60\n",
    "r2 = diabetes['risk_score'].between(30, 60)\n",
    "r3 = diabetes['risk_score'] < 30"
   ]
  },
  {
   "cell_type": "code",
   "execution_count": 12,
   "id": "4eed051a",
   "metadata": {},
   "outputs": [
    {
     "data": {
      "text/plain": [
       "risk\n",
       "Moderate    587\n",
       "Low         341\n",
       "High         72\n",
       "Name: count, dtype: int64"
      ]
     },
     "execution_count": 12,
     "metadata": {},
     "output_type": "execute_result"
    }
   ],
   "source": [
    "diabetes['risk'] = np.select([r1,r2,r3],('High','Moderate','Low'),default=None)\n",
    "diabetes['risk'].value_counts()"
   ]
  },
  {
   "cell_type": "code",
   "execution_count": 13,
   "id": "c0477e75",
   "metadata": {},
   "outputs": [
    {
     "data": {
      "text/html": [
       "<div>\n",
       "<style scoped>\n",
       "    .dataframe tbody tr th:only-of-type {\n",
       "        vertical-align: middle;\n",
       "    }\n",
       "\n",
       "    .dataframe tbody tr th {\n",
       "        vertical-align: top;\n",
       "    }\n",
       "\n",
       "    .dataframe thead th {\n",
       "        text-align: right;\n",
       "    }\n",
       "</style>\n",
       "<table border=\"1\" class=\"dataframe\">\n",
       "  <thead>\n",
       "    <tr style=\"text-align: right;\">\n",
       "      <th></th>\n",
       "      <th>weight</th>\n",
       "      <th>height</th>\n",
       "      <th>blood_glucose</th>\n",
       "      <th>physical_activity</th>\n",
       "      <th>diet</th>\n",
       "      <th>medication_adherence</th>\n",
       "      <th>stress_level</th>\n",
       "      <th>sleep_hours</th>\n",
       "      <th>hydration_level</th>\n",
       "      <th>bmi</th>\n",
       "      <th>risk_score</th>\n",
       "      <th>risk</th>\n",
       "    </tr>\n",
       "  </thead>\n",
       "  <tbody>\n",
       "    <tr>\n",
       "      <th>0</th>\n",
       "      <td>77.45</td>\n",
       "      <td>183.99</td>\n",
       "      <td>112.99</td>\n",
       "      <td>0.00</td>\n",
       "      <td>1</td>\n",
       "      <td>0</td>\n",
       "      <td>1</td>\n",
       "      <td>6.34</td>\n",
       "      <td>1</td>\n",
       "      <td>22.90</td>\n",
       "      <td>38.00</td>\n",
       "      <td>Moderate</td>\n",
       "    </tr>\n",
       "    <tr>\n",
       "      <th>1</th>\n",
       "      <td>67.93</td>\n",
       "      <td>179.25</td>\n",
       "      <td>134.22</td>\n",
       "      <td>12.79</td>\n",
       "      <td>0</td>\n",
       "      <td>1</td>\n",
       "      <td>2</td>\n",
       "      <td>10.66</td>\n",
       "      <td>1</td>\n",
       "      <td>21.10</td>\n",
       "      <td>39.16</td>\n",
       "      <td>Moderate</td>\n",
       "    </tr>\n",
       "    <tr>\n",
       "      <th>2</th>\n",
       "      <td>79.72</td>\n",
       "      <td>170.60</td>\n",
       "      <td>108.30</td>\n",
       "      <td>21.73</td>\n",
       "      <td>1</td>\n",
       "      <td>1</td>\n",
       "      <td>0</td>\n",
       "      <td>6.00</td>\n",
       "      <td>1</td>\n",
       "      <td>27.40</td>\n",
       "      <td>31.48</td>\n",
       "      <td>Moderate</td>\n",
       "    </tr>\n",
       "    <tr>\n",
       "      <th>3</th>\n",
       "      <td>92.85</td>\n",
       "      <td>163.53</td>\n",
       "      <td>127.68</td>\n",
       "      <td>67.75</td>\n",
       "      <td>1</td>\n",
       "      <td>0</td>\n",
       "      <td>1</td>\n",
       "      <td>7.96</td>\n",
       "      <td>1</td>\n",
       "      <td>34.70</td>\n",
       "      <td>45.00</td>\n",
       "      <td>Moderate</td>\n",
       "    </tr>\n",
       "    <tr>\n",
       "      <th>4</th>\n",
       "      <td>66.49</td>\n",
       "      <td>176.98</td>\n",
       "      <td>70.00</td>\n",
       "      <td>41.13</td>\n",
       "      <td>1</td>\n",
       "      <td>1</td>\n",
       "      <td>0</td>\n",
       "      <td>6.77</td>\n",
       "      <td>1</td>\n",
       "      <td>21.20</td>\n",
       "      <td>4.72</td>\n",
       "      <td>Low</td>\n",
       "    </tr>\n",
       "  </tbody>\n",
       "</table>\n",
       "</div>"
      ],
      "text/plain": [
       "   weight  height  blood_glucose  physical_activity  diet  \\\n",
       "0   77.45  183.99         112.99               0.00     1   \n",
       "1   67.93  179.25         134.22              12.79     0   \n",
       "2   79.72  170.60         108.30              21.73     1   \n",
       "3   92.85  163.53         127.68              67.75     1   \n",
       "4   66.49  176.98          70.00              41.13     1   \n",
       "\n",
       "   medication_adherence  stress_level  sleep_hours  hydration_level   bmi  \\\n",
       "0                     0             1         6.34                1 22.90   \n",
       "1                     1             2        10.66                1 21.10   \n",
       "2                     1             0         6.00                1 27.40   \n",
       "3                     0             1         7.96                1 34.70   \n",
       "4                     1             0         6.77                1 21.20   \n",
       "\n",
       "   risk_score      risk  \n",
       "0       38.00  Moderate  \n",
       "1       39.16  Moderate  \n",
       "2       31.48  Moderate  \n",
       "3       45.00  Moderate  \n",
       "4        4.72       Low  "
      ]
     },
     "execution_count": 13,
     "metadata": {},
     "output_type": "execute_result"
    }
   ],
   "source": [
    "diabetes.head()"
   ]
  },
  {
   "cell_type": "code",
   "execution_count": 14,
   "id": "d5ee6ec2",
   "metadata": {
    "scrolled": true
   },
   "outputs": [
    {
     "name": "stdout",
     "output_type": "stream",
     "text": [
      "<class 'pandas.core.frame.DataFrame'>\n",
      "RangeIndex: 1000 entries, 0 to 999\n",
      "Data columns (total 12 columns):\n",
      " #   Column                Non-Null Count  Dtype  \n",
      "---  ------                --------------  -----  \n",
      " 0   weight                1000 non-null   float64\n",
      " 1   height                1000 non-null   float64\n",
      " 2   blood_glucose         1000 non-null   float64\n",
      " 3   physical_activity     1000 non-null   float64\n",
      " 4   diet                  1000 non-null   int64  \n",
      " 5   medication_adherence  1000 non-null   int64  \n",
      " 6   stress_level          1000 non-null   int64  \n",
      " 7   sleep_hours           1000 non-null   float64\n",
      " 8   hydration_level       1000 non-null   int64  \n",
      " 9   bmi                   1000 non-null   float64\n",
      " 10  risk_score            1000 non-null   float64\n",
      " 11  risk                  1000 non-null   object \n",
      "dtypes: float64(7), int64(4), object(1)\n",
      "memory usage: 93.9+ KB\n"
     ]
    }
   ],
   "source": [
    "diabetes.info()"
   ]
  },
  {
   "cell_type": "markdown",
   "id": "843872f5",
   "metadata": {},
   "source": [
    "There are 1000 rows, 12 columns and no nulls"
   ]
  },
  {
   "cell_type": "markdown",
   "id": "702bbcf5",
   "metadata": {},
   "source": [
    "# Exploratory Data Analysis"
   ]
  },
  {
   "cell_type": "markdown",
   "id": "4a0a755b",
   "metadata": {},
   "source": [
    "Defining functions"
   ]
  },
  {
   "cell_type": "code",
   "execution_count": 15,
   "id": "6e28380a",
   "metadata": {},
   "outputs": [],
   "source": [
    "def plot_var(col_name, full_name):\n",
    "\n",
    "        f, (ax1, ax2) = plt.subplots(nrows=1, ncols=2,figsize=(12,3), dpi=90)\n",
    "    \n",
    "\n",
    "        sns.boxplot(x=col_name, y='risk', data=diabetes, ax=ax1)\n",
    "        ax1.set_ylabel('')\n",
    "        ax1.set_title(full_name + ' by risk')\n",
    "        \n",
    "        sns.histplot(diabetes.loc[diabetes[col_name].notnull(), col_name], kde=True)"
   ]
  },
  {
   "cell_type": "markdown",
   "id": "69654c77",
   "metadata": {},
   "source": [
    "### weight"
   ]
  },
  {
   "cell_type": "code",
   "execution_count": 16,
   "id": "d7867677",
   "metadata": {},
   "outputs": [
    {
     "data": {
      "text/plain": [
       "\" The user's body weight in kilograms. Weight is a significant factor in determining obesity-related risks.\""
      ]
     },
     "execution_count": 16,
     "metadata": {},
     "output_type": "execute_result"
    }
   ],
   "source": [
    "description.Column_Description[2]"
   ]
  },
  {
   "cell_type": "code",
   "execution_count": 17,
   "id": "8c3d3c14",
   "metadata": {},
   "outputs": [
    {
     "data": {
      "image/png": "[encoded data removed]",
      "text/plain": [
       "<Figure size 1080x270 with 2 Axes>"
      ]
     },
     "metadata": {},
     "output_type": "display_data"
    }
   ],
   "source": [
    "plot_var('weight','weight')"
   ]
  },
  {
   "cell_type": "code",
   "execution_count": 18,
   "id": "c036836f",
   "metadata": {},
   "outputs": [
    {
     "data": {
      "text/html": [
       "<div>\n",
       "<style scoped>\n",
       "    .dataframe tbody tr th:only-of-type {\n",
       "        vertical-align: middle;\n",
       "    }\n",
       "\n",
       "    .dataframe tbody tr th {\n",
       "        vertical-align: top;\n",
       "    }\n",
       "\n",
       "    .dataframe thead th {\n",
       "        text-align: right;\n",
       "    }\n",
       "</style>\n",
       "<table border=\"1\" class=\"dataframe\">\n",
       "  <thead>\n",
       "    <tr style=\"text-align: right;\">\n",
       "      <th></th>\n",
       "      <th>count</th>\n",
       "      <th>mean</th>\n",
       "      <th>std</th>\n",
       "      <th>min</th>\n",
       "      <th>25%</th>\n",
       "      <th>50%</th>\n",
       "      <th>75%</th>\n",
       "      <th>max</th>\n",
       "    </tr>\n",
       "    <tr>\n",
       "      <th>risk</th>\n",
       "      <th></th>\n",
       "      <th></th>\n",
       "      <th></th>\n",
       "      <th></th>\n",
       "      <th></th>\n",
       "      <th></th>\n",
       "      <th></th>\n",
       "      <th></th>\n",
       "    </tr>\n",
       "  </thead>\n",
       "  <tbody>\n",
       "    <tr>\n",
       "      <th>High</th>\n",
       "      <td>72.00</td>\n",
       "      <td>80.93</td>\n",
       "      <td>15.33</td>\n",
       "      <td>41.22</td>\n",
       "      <td>73.98</td>\n",
       "      <td>81.02</td>\n",
       "      <td>91.89</td>\n",
       "      <td>109.49</td>\n",
       "    </tr>\n",
       "    <tr>\n",
       "      <th>Low</th>\n",
       "      <td>341.00</td>\n",
       "      <td>65.11</td>\n",
       "      <td>11.20</td>\n",
       "      <td>40.00</td>\n",
       "      <td>58.67</td>\n",
       "      <td>64.86</td>\n",
       "      <td>71.83</td>\n",
       "      <td>99.47</td>\n",
       "    </tr>\n",
       "    <tr>\n",
       "      <th>Moderate</th>\n",
       "      <td>587.00</td>\n",
       "      <td>72.11</td>\n",
       "      <td>14.92</td>\n",
       "      <td>40.00</td>\n",
       "      <td>61.70</td>\n",
       "      <td>73.21</td>\n",
       "      <td>82.19</td>\n",
       "      <td>120.00</td>\n",
       "    </tr>\n",
       "  </tbody>\n",
       "</table>\n",
       "</div>"
      ],
      "text/plain": [
       "          count  mean   std   min   25%   50%   75%    max\n",
       "risk                                                      \n",
       "High      72.00 80.93 15.33 41.22 73.98 81.02 91.89 109.49\n",
       "Low      341.00 65.11 11.20 40.00 58.67 64.86 71.83  99.47\n",
       "Moderate 587.00 72.11 14.92 40.00 61.70 73.21 82.19 120.00"
      ]
     },
     "execution_count": 18,
     "metadata": {},
     "output_type": "execute_result"
    }
   ],
   "source": [
    "diabetes.groupby('risk')['weight'].describe()"
   ]
  },
  {
   "cell_type": "markdown",
   "id": "d1f3303f",
   "metadata": {},
   "source": [
    "People with higher weight have higher probability of diabetes"
   ]
  },
  {
   "cell_type": "markdown",
   "id": "91a2f932",
   "metadata": {},
   "source": [
    "### height"
   ]
  },
  {
   "cell_type": "code",
   "execution_count": 19,
   "id": "3bdb7d24",
   "metadata": {},
   "outputs": [
    {
     "data": {
      "text/plain": [
       "' Height of the user, measured in centimeters. This, combined with weight, helps calculate BMI, a key predictor of diabetes risk.'"
      ]
     },
     "execution_count": 19,
     "metadata": {},
     "output_type": "execute_result"
    }
   ],
   "source": [
    "description.Column_Description[3]"
   ]
  },
  {
   "cell_type": "code",
   "execution_count": 20,
   "id": "7a38a5d6",
   "metadata": {},
   "outputs": [
    {
     "data": {
      "image/png": "[encoded data removed]",
      "text/plain": [
       "<Figure size 1080x270 with 2 Axes>"
      ]
     },
     "metadata": {},
     "output_type": "display_data"
    }
   ],
   "source": [
    "plot_var('height','height')"
   ]
  },
  {
   "cell_type": "code",
   "execution_count": 21,
   "id": "ae11c983",
   "metadata": {},
   "outputs": [
    {
     "data": {
      "text/html": [
       "<div>\n",
       "<style scoped>\n",
       "    .dataframe tbody tr th:only-of-type {\n",
       "        vertical-align: middle;\n",
       "    }\n",
       "\n",
       "    .dataframe tbody tr th {\n",
       "        vertical-align: top;\n",
       "    }\n",
       "\n",
       "    .dataframe thead th {\n",
       "        text-align: right;\n",
       "    }\n",
       "</style>\n",
       "<table border=\"1\" class=\"dataframe\">\n",
       "  <thead>\n",
       "    <tr style=\"text-align: right;\">\n",
       "      <th></th>\n",
       "      <th>count</th>\n",
       "      <th>mean</th>\n",
       "      <th>std</th>\n",
       "      <th>min</th>\n",
       "      <th>25%</th>\n",
       "      <th>50%</th>\n",
       "      <th>75%</th>\n",
       "      <th>max</th>\n",
       "    </tr>\n",
       "    <tr>\n",
       "      <th>risk</th>\n",
       "      <th></th>\n",
       "      <th></th>\n",
       "      <th></th>\n",
       "      <th></th>\n",
       "      <th></th>\n",
       "      <th></th>\n",
       "      <th></th>\n",
       "      <th></th>\n",
       "    </tr>\n",
       "  </thead>\n",
       "  <tbody>\n",
       "    <tr>\n",
       "      <th>High</th>\n",
       "      <td>72.00</td>\n",
       "      <td>167.24</td>\n",
       "      <td>9.98</td>\n",
       "      <td>150.00</td>\n",
       "      <td>161.07</td>\n",
       "      <td>167.05</td>\n",
       "      <td>174.67</td>\n",
       "      <td>190.77</td>\n",
       "    </tr>\n",
       "    <tr>\n",
       "      <th>Low</th>\n",
       "      <td>341.00</td>\n",
       "      <td>172.57</td>\n",
       "      <td>9.48</td>\n",
       "      <td>150.00</td>\n",
       "      <td>167.05</td>\n",
       "      <td>172.39</td>\n",
       "      <td>179.14</td>\n",
       "      <td>200.00</td>\n",
       "    </tr>\n",
       "    <tr>\n",
       "      <th>Moderate</th>\n",
       "      <td>587.00</td>\n",
       "      <td>170.20</td>\n",
       "      <td>9.69</td>\n",
       "      <td>150.00</td>\n",
       "      <td>163.34</td>\n",
       "      <td>169.77</td>\n",
       "      <td>176.95</td>\n",
       "      <td>200.00</td>\n",
       "    </tr>\n",
       "  </tbody>\n",
       "</table>\n",
       "</div>"
      ],
      "text/plain": [
       "          count   mean  std    min    25%    50%    75%    max\n",
       "risk                                                          \n",
       "High      72.00 167.24 9.98 150.00 161.07 167.05 174.67 190.77\n",
       "Low      341.00 172.57 9.48 150.00 167.05 172.39 179.14 200.00\n",
       "Moderate 587.00 170.20 9.69 150.00 163.34 169.77 176.95 200.00"
      ]
     },
     "execution_count": 21,
     "metadata": {},
     "output_type": "execute_result"
    }
   ],
   "source": [
    "diabetes.groupby('risk')['height'].describe()"
   ]
  },
  {
   "cell_type": "markdown",
   "id": "fea31985",
   "metadata": {},
   "source": [
    "People with higher probability of diabetes are slightly lower than people with lowest probability"
   ]
  },
  {
   "cell_type": "markdown",
   "id": "0c845ecd",
   "metadata": {},
   "source": [
    "### blood_glucose"
   ]
  },
  {
   "cell_type": "code",
   "execution_count": 22,
   "id": "e87dbaf0",
   "metadata": {},
   "outputs": [
    {
     "data": {
      "text/plain": [
       "\" The user's blood glucose level in milligrams per deciliter. This is one of the most crucial indicators for diagnosing diabetes, with values typically ranging between 70 and 300 mg/dL.\""
      ]
     },
     "execution_count": 22,
     "metadata": {},
     "output_type": "execute_result"
    }
   ],
   "source": [
    "description.Column_Description[4]"
   ]
  },
  {
   "cell_type": "code",
   "execution_count": 23,
   "id": "6242bc3f",
   "metadata": {},
   "outputs": [
    {
     "data": {
      "image/png": "[encoded data removed]",
      "text/plain": [
       "<Figure size 1080x270 with 2 Axes>"
      ]
     },
     "metadata": {},
     "output_type": "display_data"
    }
   ],
   "source": [
    "plot_var('blood_glucose','blood_glucose')"
   ]
  },
  {
   "cell_type": "code",
   "execution_count": 24,
   "id": "0dd916d0",
   "metadata": {},
   "outputs": [
    {
     "data": {
      "text/html": [
       "<div>\n",
       "<style scoped>\n",
       "    .dataframe tbody tr th:only-of-type {\n",
       "        vertical-align: middle;\n",
       "    }\n",
       "\n",
       "    .dataframe tbody tr th {\n",
       "        vertical-align: top;\n",
       "    }\n",
       "\n",
       "    .dataframe thead th {\n",
       "        text-align: right;\n",
       "    }\n",
       "</style>\n",
       "<table border=\"1\" class=\"dataframe\">\n",
       "  <thead>\n",
       "    <tr style=\"text-align: right;\">\n",
       "      <th></th>\n",
       "      <th>count</th>\n",
       "      <th>mean</th>\n",
       "      <th>std</th>\n",
       "      <th>min</th>\n",
       "      <th>25%</th>\n",
       "      <th>50%</th>\n",
       "      <th>75%</th>\n",
       "      <th>max</th>\n",
       "    </tr>\n",
       "    <tr>\n",
       "      <th>risk</th>\n",
       "      <th></th>\n",
       "      <th></th>\n",
       "      <th></th>\n",
       "      <th></th>\n",
       "      <th></th>\n",
       "      <th></th>\n",
       "      <th></th>\n",
       "      <th></th>\n",
       "    </tr>\n",
       "  </thead>\n",
       "  <tbody>\n",
       "    <tr>\n",
       "      <th>High</th>\n",
       "      <td>72.00</td>\n",
       "      <td>148.48</td>\n",
       "      <td>48.03</td>\n",
       "      <td>70.00</td>\n",
       "      <td>116.75</td>\n",
       "      <td>139.64</td>\n",
       "      <td>189.50</td>\n",
       "      <td>297.05</td>\n",
       "    </tr>\n",
       "    <tr>\n",
       "      <th>Low</th>\n",
       "      <td>341.00</td>\n",
       "      <td>136.83</td>\n",
       "      <td>32.63</td>\n",
       "      <td>70.00</td>\n",
       "      <td>114.10</td>\n",
       "      <td>137.43</td>\n",
       "      <td>158.67</td>\n",
       "      <td>219.83</td>\n",
       "    </tr>\n",
       "    <tr>\n",
       "      <th>Moderate</th>\n",
       "      <td>587.00</td>\n",
       "      <td>142.20</td>\n",
       "      <td>39.42</td>\n",
       "      <td>70.00</td>\n",
       "      <td>114.17</td>\n",
       "      <td>141.37</td>\n",
       "      <td>167.77</td>\n",
       "      <td>264.40</td>\n",
       "    </tr>\n",
       "  </tbody>\n",
       "</table>\n",
       "</div>"
      ],
      "text/plain": [
       "          count   mean   std   min    25%    50%    75%    max\n",
       "risk                                                          \n",
       "High      72.00 148.48 48.03 70.00 116.75 139.64 189.50 297.05\n",
       "Low      341.00 136.83 32.63 70.00 114.10 137.43 158.67 219.83\n",
       "Moderate 587.00 142.20 39.42 70.00 114.17 141.37 167.77 264.40"
      ]
     },
     "execution_count": 24,
     "metadata": {},
     "output_type": "execute_result"
    }
   ],
   "source": [
    "diabetes.groupby('risk')['blood_glucose'].describe()"
   ]
  },
  {
   "cell_type": "markdown",
   "id": "81bc0bee",
   "metadata": {},
   "source": [
    "With rising blood glucose rises diabetes risk"
   ]
  },
  {
   "cell_type": "markdown",
   "id": "91a181e7",
   "metadata": {},
   "source": [
    "### physical_activity"
   ]
  },
  {
   "cell_type": "code",
   "execution_count": 25,
   "id": "9c6d09c1",
   "metadata": {},
   "outputs": [
    {
     "data": {
      "text/plain": [
       "' The daily duration of physical activity, measured in minutes. Physical activity plays a critical role in managing blood glucose levels and reducing diabetes risk.'"
      ]
     },
     "execution_count": 25,
     "metadata": {},
     "output_type": "execute_result"
    }
   ],
   "source": [
    "description.Column_Description[5]"
   ]
  },
  {
   "cell_type": "code",
   "execution_count": 26,
   "id": "d41c16fd",
   "metadata": {},
   "outputs": [
    {
     "data": {
      "image/png": "[encoded data removed]",
      "text/plain": [
       "<Figure size 1080x270 with 2 Axes>"
      ]
     },
     "metadata": {},
     "output_type": "display_data"
    }
   ],
   "source": [
    "plot_var('physical_activity','physical_activity')"
   ]
  },
  {
   "cell_type": "code",
   "execution_count": 27,
   "id": "238aefc7",
   "metadata": {},
   "outputs": [
    {
     "data": {
      "text/html": [
       "<div>\n",
       "<style scoped>\n",
       "    .dataframe tbody tr th:only-of-type {\n",
       "        vertical-align: middle;\n",
       "    }\n",
       "\n",
       "    .dataframe tbody tr th {\n",
       "        vertical-align: top;\n",
       "    }\n",
       "\n",
       "    .dataframe thead th {\n",
       "        text-align: right;\n",
       "    }\n",
       "</style>\n",
       "<table border=\"1\" class=\"dataframe\">\n",
       "  <thead>\n",
       "    <tr style=\"text-align: right;\">\n",
       "      <th></th>\n",
       "      <th>count</th>\n",
       "      <th>mean</th>\n",
       "      <th>std</th>\n",
       "      <th>min</th>\n",
       "      <th>25%</th>\n",
       "      <th>50%</th>\n",
       "      <th>75%</th>\n",
       "      <th>max</th>\n",
       "    </tr>\n",
       "    <tr>\n",
       "      <th>risk</th>\n",
       "      <th></th>\n",
       "      <th></th>\n",
       "      <th></th>\n",
       "      <th></th>\n",
       "      <th></th>\n",
       "      <th></th>\n",
       "      <th></th>\n",
       "      <th></th>\n",
       "    </tr>\n",
       "  </thead>\n",
       "  <tbody>\n",
       "    <tr>\n",
       "      <th>High</th>\n",
       "      <td>72.00</td>\n",
       "      <td>15.36</td>\n",
       "      <td>15.37</td>\n",
       "      <td>0.00</td>\n",
       "      <td>3.94</td>\n",
       "      <td>10.88</td>\n",
       "      <td>22.41</td>\n",
       "      <td>68.41</td>\n",
       "    </tr>\n",
       "    <tr>\n",
       "      <th>Low</th>\n",
       "      <td>341.00</td>\n",
       "      <td>37.52</td>\n",
       "      <td>18.27</td>\n",
       "      <td>0.00</td>\n",
       "      <td>26.42</td>\n",
       "      <td>37.92</td>\n",
       "      <td>49.03</td>\n",
       "      <td>94.86</td>\n",
       "    </tr>\n",
       "    <tr>\n",
       "      <th>Moderate</th>\n",
       "      <td>587.00</td>\n",
       "      <td>27.93</td>\n",
       "      <td>18.70</td>\n",
       "      <td>0.00</td>\n",
       "      <td>13.34</td>\n",
       "      <td>27.21</td>\n",
       "      <td>39.83</td>\n",
       "      <td>87.37</td>\n",
       "    </tr>\n",
       "  </tbody>\n",
       "</table>\n",
       "</div>"
      ],
      "text/plain": [
       "          count  mean   std  min   25%   50%   75%   max\n",
       "risk                                                    \n",
       "High      72.00 15.36 15.37 0.00  3.94 10.88 22.41 68.41\n",
       "Low      341.00 37.52 18.27 0.00 26.42 37.92 49.03 94.86\n",
       "Moderate 587.00 27.93 18.70 0.00 13.34 27.21 39.83 87.37"
      ]
     },
     "execution_count": 27,
     "metadata": {},
     "output_type": "execute_result"
    }
   ],
   "source": [
    "diabetes.groupby('risk')['physical_activity'].describe()"
   ]
  },
  {
   "cell_type": "markdown",
   "id": "602a0d37",
   "metadata": {},
   "source": [
    "People with highest diabetes risk has lower physical activity time"
   ]
  },
  {
   "cell_type": "markdown",
   "id": "0cf5b579",
   "metadata": {},
   "source": [
    "### diet"
   ]
  },
  {
   "cell_type": "code",
   "execution_count": 28,
   "id": "b561851d",
   "metadata": {},
   "outputs": [
    {
     "data": {
      "text/plain": [
       "\" A categorical variable describing the quality of the user's diet, labeled as either 'healthy' or 'unhealthy'. Diet plays an important role in diabetes prevention and management.\""
      ]
     },
     "execution_count": 28,
     "metadata": {},
     "output_type": "execute_result"
    }
   ],
   "source": [
    "description.Column_Description[6]"
   ]
  },
  {
   "cell_type": "code",
   "execution_count": 29,
   "id": "5167d1c5",
   "metadata": {},
   "outputs": [
    {
     "data": {
      "image/png": "[encoded data removed]",
      "text/plain": [
       "<Figure size 1080x270 with 2 Axes>"
      ]
     },
     "metadata": {},
     "output_type": "display_data"
    }
   ],
   "source": [
    "plot_var('diet','diet')"
   ]
  },
  {
   "cell_type": "code",
   "execution_count": 30,
   "id": "531b7c9a",
   "metadata": {},
   "outputs": [
    {
     "data": {
      "text/html": [
       "<div>\n",
       "<style scoped>\n",
       "    .dataframe tbody tr th:only-of-type {\n",
       "        vertical-align: middle;\n",
       "    }\n",
       "\n",
       "    .dataframe tbody tr th {\n",
       "        vertical-align: top;\n",
       "    }\n",
       "\n",
       "    .dataframe thead th {\n",
       "        text-align: right;\n",
       "    }\n",
       "</style>\n",
       "<table border=\"1\" class=\"dataframe\">\n",
       "  <thead>\n",
       "    <tr style=\"text-align: right;\">\n",
       "      <th></th>\n",
       "      <th>count</th>\n",
       "      <th>mean</th>\n",
       "      <th>std</th>\n",
       "      <th>min</th>\n",
       "      <th>25%</th>\n",
       "      <th>50%</th>\n",
       "      <th>75%</th>\n",
       "      <th>max</th>\n",
       "    </tr>\n",
       "    <tr>\n",
       "      <th>risk</th>\n",
       "      <th></th>\n",
       "      <th></th>\n",
       "      <th></th>\n",
       "      <th></th>\n",
       "      <th></th>\n",
       "      <th></th>\n",
       "      <th></th>\n",
       "      <th></th>\n",
       "    </tr>\n",
       "  </thead>\n",
       "  <tbody>\n",
       "    <tr>\n",
       "      <th>High</th>\n",
       "      <td>72.00</td>\n",
       "      <td>0.29</td>\n",
       "      <td>0.46</td>\n",
       "      <td>0.00</td>\n",
       "      <td>0.00</td>\n",
       "      <td>0.00</td>\n",
       "      <td>1.00</td>\n",
       "      <td>1.00</td>\n",
       "    </tr>\n",
       "    <tr>\n",
       "      <th>Low</th>\n",
       "      <td>341.00</td>\n",
       "      <td>0.80</td>\n",
       "      <td>0.40</td>\n",
       "      <td>0.00</td>\n",
       "      <td>1.00</td>\n",
       "      <td>1.00</td>\n",
       "      <td>1.00</td>\n",
       "      <td>1.00</td>\n",
       "    </tr>\n",
       "    <tr>\n",
       "      <th>Moderate</th>\n",
       "      <td>587.00</td>\n",
       "      <td>0.53</td>\n",
       "      <td>0.50</td>\n",
       "      <td>0.00</td>\n",
       "      <td>0.00</td>\n",
       "      <td>1.00</td>\n",
       "      <td>1.00</td>\n",
       "      <td>1.00</td>\n",
       "    </tr>\n",
       "  </tbody>\n",
       "</table>\n",
       "</div>"
      ],
      "text/plain": [
       "          count  mean  std  min  25%  50%  75%  max\n",
       "risk                                               \n",
       "High      72.00  0.29 0.46 0.00 0.00 0.00 1.00 1.00\n",
       "Low      341.00  0.80 0.40 0.00 1.00 1.00 1.00 1.00\n",
       "Moderate 587.00  0.53 0.50 0.00 0.00 1.00 1.00 1.00"
      ]
     },
     "execution_count": 30,
     "metadata": {},
     "output_type": "execute_result"
    }
   ],
   "source": [
    "diabetes.groupby('risk')['diet'].describe()"
   ]
  },
  {
   "cell_type": "markdown",
   "id": "31fb8608",
   "metadata": {},
   "source": [
    "People who have healthier diet have lower risk of diabetes"
   ]
  },
  {
   "cell_type": "markdown",
   "id": "a168c3ff",
   "metadata": {},
   "source": [
    "### medication_adherence"
   ]
  },
  {
   "cell_type": "code",
   "execution_count": 31,
   "id": "84d2c918",
   "metadata": {},
   "outputs": [
    {
     "data": {
      "text/plain": [
       "\" Indicates the extent of the user's adherence to prescribed medication, categorized as 'good' or 'poor'. Proper adherence is crucial for managing blood glucose levels effectively.\""
      ]
     },
     "execution_count": 31,
     "metadata": {},
     "output_type": "execute_result"
    }
   ],
   "source": [
    "description.Column_Description[7]"
   ]
  },
  {
   "cell_type": "code",
   "execution_count": 32,
   "id": "de61a4c8",
   "metadata": {},
   "outputs": [
    {
     "data": {
      "image/png": "[encoded data removed]",
      "text/plain": [
       "<Figure size 1080x270 with 2 Axes>"
      ]
     },
     "metadata": {},
     "output_type": "display_data"
    }
   ],
   "source": [
    "plot_var('medication_adherence','medication_adherence')"
   ]
  },
  {
   "cell_type": "code",
   "execution_count": 33,
   "id": "2430e5a3",
   "metadata": {},
   "outputs": [
    {
     "data": {
      "text/html": [
       "<div>\n",
       "<style scoped>\n",
       "    .dataframe tbody tr th:only-of-type {\n",
       "        vertical-align: middle;\n",
       "    }\n",
       "\n",
       "    .dataframe tbody tr th {\n",
       "        vertical-align: top;\n",
       "    }\n",
       "\n",
       "    .dataframe thead th {\n",
       "        text-align: right;\n",
       "    }\n",
       "</style>\n",
       "<table border=\"1\" class=\"dataframe\">\n",
       "  <thead>\n",
       "    <tr style=\"text-align: right;\">\n",
       "      <th></th>\n",
       "      <th>count</th>\n",
       "      <th>mean</th>\n",
       "      <th>std</th>\n",
       "      <th>min</th>\n",
       "      <th>25%</th>\n",
       "      <th>50%</th>\n",
       "      <th>75%</th>\n",
       "      <th>max</th>\n",
       "    </tr>\n",
       "    <tr>\n",
       "      <th>risk</th>\n",
       "      <th></th>\n",
       "      <th></th>\n",
       "      <th></th>\n",
       "      <th></th>\n",
       "      <th></th>\n",
       "      <th></th>\n",
       "      <th></th>\n",
       "      <th></th>\n",
       "    </tr>\n",
       "  </thead>\n",
       "  <tbody>\n",
       "    <tr>\n",
       "      <th>High</th>\n",
       "      <td>72.00</td>\n",
       "      <td>0.19</td>\n",
       "      <td>0.40</td>\n",
       "      <td>0.00</td>\n",
       "      <td>0.00</td>\n",
       "      <td>0.00</td>\n",
       "      <td>0.00</td>\n",
       "      <td>1.00</td>\n",
       "    </tr>\n",
       "    <tr>\n",
       "      <th>Low</th>\n",
       "      <td>341.00</td>\n",
       "      <td>0.93</td>\n",
       "      <td>0.26</td>\n",
       "      <td>0.00</td>\n",
       "      <td>1.00</td>\n",
       "      <td>1.00</td>\n",
       "      <td>1.00</td>\n",
       "      <td>1.00</td>\n",
       "    </tr>\n",
       "    <tr>\n",
       "      <th>Moderate</th>\n",
       "      <td>587.00</td>\n",
       "      <td>0.62</td>\n",
       "      <td>0.49</td>\n",
       "      <td>0.00</td>\n",
       "      <td>0.00</td>\n",
       "      <td>1.00</td>\n",
       "      <td>1.00</td>\n",
       "      <td>1.00</td>\n",
       "    </tr>\n",
       "  </tbody>\n",
       "</table>\n",
       "</div>"
      ],
      "text/plain": [
       "          count  mean  std  min  25%  50%  75%  max\n",
       "risk                                               \n",
       "High      72.00  0.19 0.40 0.00 0.00 0.00 0.00 1.00\n",
       "Low      341.00  0.93 0.26 0.00 1.00 1.00 1.00 1.00\n",
       "Moderate 587.00  0.62 0.49 0.00 0.00 1.00 1.00 1.00"
      ]
     },
     "execution_count": 33,
     "metadata": {},
     "output_type": "execute_result"
    }
   ],
   "source": [
    "diabetes.groupby('risk')['medication_adherence'].describe()"
   ]
  },
  {
   "cell_type": "markdown",
   "id": "8938e52a",
   "metadata": {},
   "source": [
    "People with higher medication adherence have lower risk of diabeties"
   ]
  },
  {
   "cell_type": "markdown",
   "id": "1d424b16",
   "metadata": {},
   "source": [
    "### stress_level"
   ]
  },
  {
   "cell_type": "code",
   "execution_count": 34,
   "id": "124ca8fc",
   "metadata": {},
   "outputs": [
    {
     "data": {
      "text/plain": [
       "\" The stress level reported by the user, categorized as 'low', 'medium', or 'high'. Chronic stress can significantly impact blood glucose levels and contribute to diabetes risk.\""
      ]
     },
     "execution_count": 34,
     "metadata": {},
     "output_type": "execute_result"
    }
   ],
   "source": [
    "description.Column_Description[8]"
   ]
  },
  {
   "cell_type": "code",
   "execution_count": 35,
   "id": "1a90c2e8",
   "metadata": {},
   "outputs": [
    {
     "data": {
      "image/png": "[encoded data removed]",
      "text/plain": [
       "<Figure size 1080x270 with 2 Axes>"
      ]
     },
     "metadata": {},
     "output_type": "display_data"
    }
   ],
   "source": [
    "plot_var('stress_level','stress_level')"
   ]
  },
  {
   "cell_type": "code",
   "execution_count": 36,
   "id": "9764fee4",
   "metadata": {},
   "outputs": [
    {
     "data": {
      "text/html": [
       "<div>\n",
       "<style scoped>\n",
       "    .dataframe tbody tr th:only-of-type {\n",
       "        vertical-align: middle;\n",
       "    }\n",
       "\n",
       "    .dataframe tbody tr th {\n",
       "        vertical-align: top;\n",
       "    }\n",
       "\n",
       "    .dataframe thead th {\n",
       "        text-align: right;\n",
       "    }\n",
       "</style>\n",
       "<table border=\"1\" class=\"dataframe\">\n",
       "  <thead>\n",
       "    <tr style=\"text-align: right;\">\n",
       "      <th></th>\n",
       "      <th>count</th>\n",
       "      <th>mean</th>\n",
       "      <th>std</th>\n",
       "      <th>min</th>\n",
       "      <th>25%</th>\n",
       "      <th>50%</th>\n",
       "      <th>75%</th>\n",
       "      <th>max</th>\n",
       "    </tr>\n",
       "    <tr>\n",
       "      <th>risk</th>\n",
       "      <th></th>\n",
       "      <th></th>\n",
       "      <th></th>\n",
       "      <th></th>\n",
       "      <th></th>\n",
       "      <th></th>\n",
       "      <th></th>\n",
       "      <th></th>\n",
       "    </tr>\n",
       "  </thead>\n",
       "  <tbody>\n",
       "    <tr>\n",
       "      <th>High</th>\n",
       "      <td>72.00</td>\n",
       "      <td>1.43</td>\n",
       "      <td>0.71</td>\n",
       "      <td>0.00</td>\n",
       "      <td>1.00</td>\n",
       "      <td>2.00</td>\n",
       "      <td>2.00</td>\n",
       "      <td>2.00</td>\n",
       "    </tr>\n",
       "    <tr>\n",
       "      <th>Low</th>\n",
       "      <td>341.00</td>\n",
       "      <td>0.71</td>\n",
       "      <td>0.79</td>\n",
       "      <td>0.00</td>\n",
       "      <td>0.00</td>\n",
       "      <td>0.00</td>\n",
       "      <td>1.00</td>\n",
       "      <td>2.00</td>\n",
       "    </tr>\n",
       "    <tr>\n",
       "      <th>Moderate</th>\n",
       "      <td>587.00</td>\n",
       "      <td>1.03</td>\n",
       "      <td>0.83</td>\n",
       "      <td>0.00</td>\n",
       "      <td>0.00</td>\n",
       "      <td>1.00</td>\n",
       "      <td>2.00</td>\n",
       "      <td>2.00</td>\n",
       "    </tr>\n",
       "  </tbody>\n",
       "</table>\n",
       "</div>"
      ],
      "text/plain": [
       "          count  mean  std  min  25%  50%  75%  max\n",
       "risk                                               \n",
       "High      72.00  1.43 0.71 0.00 1.00 2.00 2.00 2.00\n",
       "Low      341.00  0.71 0.79 0.00 0.00 0.00 1.00 2.00\n",
       "Moderate 587.00  1.03 0.83 0.00 0.00 1.00 2.00 2.00"
      ]
     },
     "execution_count": 36,
     "metadata": {},
     "output_type": "execute_result"
    }
   ],
   "source": [
    "diabetes.groupby('risk')['stress_level'].describe()"
   ]
  },
  {
   "cell_type": "markdown",
   "id": "46c4d9e0",
   "metadata": {},
   "source": [
    "People with the highest stress level have higher risk of diabetes"
   ]
  },
  {
   "cell_type": "markdown",
   "id": "3c234ec2",
   "metadata": {},
   "source": [
    "### sleep_hours"
   ]
  },
  {
   "cell_type": "code",
   "execution_count": 37,
   "id": "6355bf9c",
   "metadata": {},
   "outputs": [
    {
     "data": {
      "text/plain": [
       "' The number of hours the user sleeps each day. Adequate sleep is vital for maintaining overall health and stabilizing blood sugar levels.'"
      ]
     },
     "execution_count": 37,
     "metadata": {},
     "output_type": "execute_result"
    }
   ],
   "source": [
    "description.Column_Description[9]"
   ]
  },
  {
   "cell_type": "code",
   "execution_count": 38,
   "id": "99c649a5",
   "metadata": {},
   "outputs": [
    {
     "data": {
      "image/png": "[encoded data removed]",
      "text/plain": [
       "<Figure size 1080x270 with 2 Axes>"
      ]
     },
     "metadata": {},
     "output_type": "display_data"
    }
   ],
   "source": [
    "plot_var('sleep_hours','sleep_hours')"
   ]
  },
  {
   "cell_type": "code",
   "execution_count": 39,
   "id": "7cb15262",
   "metadata": {},
   "outputs": [
    {
     "data": {
      "text/html": [
       "<div>\n",
       "<style scoped>\n",
       "    .dataframe tbody tr th:only-of-type {\n",
       "        vertical-align: middle;\n",
       "    }\n",
       "\n",
       "    .dataframe tbody tr th {\n",
       "        vertical-align: top;\n",
       "    }\n",
       "\n",
       "    .dataframe thead th {\n",
       "        text-align: right;\n",
       "    }\n",
       "</style>\n",
       "<table border=\"1\" class=\"dataframe\">\n",
       "  <thead>\n",
       "    <tr style=\"text-align: right;\">\n",
       "      <th></th>\n",
       "      <th>count</th>\n",
       "      <th>mean</th>\n",
       "      <th>std</th>\n",
       "      <th>min</th>\n",
       "      <th>25%</th>\n",
       "      <th>50%</th>\n",
       "      <th>75%</th>\n",
       "      <th>max</th>\n",
       "    </tr>\n",
       "    <tr>\n",
       "      <th>risk</th>\n",
       "      <th></th>\n",
       "      <th></th>\n",
       "      <th></th>\n",
       "      <th></th>\n",
       "      <th></th>\n",
       "      <th></th>\n",
       "      <th></th>\n",
       "      <th></th>\n",
       "    </tr>\n",
       "  </thead>\n",
       "  <tbody>\n",
       "    <tr>\n",
       "      <th>High</th>\n",
       "      <td>72.00</td>\n",
       "      <td>6.86</td>\n",
       "      <td>1.94</td>\n",
       "      <td>4.00</td>\n",
       "      <td>5.16</td>\n",
       "      <td>6.96</td>\n",
       "      <td>8.28</td>\n",
       "      <td>12.00</td>\n",
       "    </tr>\n",
       "    <tr>\n",
       "      <th>Low</th>\n",
       "      <td>341.00</td>\n",
       "      <td>7.06</td>\n",
       "      <td>1.82</td>\n",
       "      <td>4.00</td>\n",
       "      <td>5.68</td>\n",
       "      <td>7.04</td>\n",
       "      <td>8.28</td>\n",
       "      <td>12.00</td>\n",
       "    </tr>\n",
       "    <tr>\n",
       "      <th>Moderate</th>\n",
       "      <td>587.00</td>\n",
       "      <td>7.11</td>\n",
       "      <td>1.91</td>\n",
       "      <td>4.00</td>\n",
       "      <td>5.74</td>\n",
       "      <td>6.97</td>\n",
       "      <td>8.47</td>\n",
       "      <td>12.00</td>\n",
       "    </tr>\n",
       "  </tbody>\n",
       "</table>\n",
       "</div>"
      ],
      "text/plain": [
       "          count  mean  std  min  25%  50%  75%   max\n",
       "risk                                                \n",
       "High      72.00  6.86 1.94 4.00 5.16 6.96 8.28 12.00\n",
       "Low      341.00  7.06 1.82 4.00 5.68 7.04 8.28 12.00\n",
       "Moderate 587.00  7.11 1.91 4.00 5.74 6.97 8.47 12.00"
      ]
     },
     "execution_count": 39,
     "metadata": {},
     "output_type": "execute_result"
    }
   ],
   "source": [
    "diabetes.groupby('risk')['sleep_hours'].describe()"
   ]
  },
  {
   "cell_type": "markdown",
   "id": "36a097e0",
   "metadata": {},
   "source": [
    "All three risk categories have similar sleep hours mean, however High risk has the lowest one, additionaly we can read from boxplot that body starts from lower values that Low and Moderate."
   ]
  },
  {
   "cell_type": "markdown",
   "id": "f85056c4",
   "metadata": {},
   "source": [
    "### hydration_level"
   ]
  },
  {
   "cell_type": "code",
   "execution_count": 40,
   "id": "700bd7ad",
   "metadata": {},
   "outputs": [
    {
     "data": {
      "text/plain": [
       "\" Indicates whether the user is adequately hydrated, with values of 'yes' or 'no'. Proper hydration supports optimal body function, which includes maintaining blood glucose balance.\""
      ]
     },
     "execution_count": 40,
     "metadata": {},
     "output_type": "execute_result"
    }
   ],
   "source": [
    "description.Column_Description[10]"
   ]
  },
  {
   "cell_type": "code",
   "execution_count": 41,
   "id": "f9511554",
   "metadata": {},
   "outputs": [
    {
     "data": {
      "image/png": "[encoded data removed]",
      "text/plain": [
       "<Figure size 1080x270 with 2 Axes>"
      ]
     },
     "metadata": {},
     "output_type": "display_data"
    }
   ],
   "source": [
    "plot_var('hydration_level','hydration_level')"
   ]
  },
  {
   "cell_type": "code",
   "execution_count": 42,
   "id": "a48ae764",
   "metadata": {},
   "outputs": [
    {
     "data": {
      "text/html": [
       "<div>\n",
       "<style scoped>\n",
       "    .dataframe tbody tr th:only-of-type {\n",
       "        vertical-align: middle;\n",
       "    }\n",
       "\n",
       "    .dataframe tbody tr th {\n",
       "        vertical-align: top;\n",
       "    }\n",
       "\n",
       "    .dataframe thead th {\n",
       "        text-align: right;\n",
       "    }\n",
       "</style>\n",
       "<table border=\"1\" class=\"dataframe\">\n",
       "  <thead>\n",
       "    <tr style=\"text-align: right;\">\n",
       "      <th></th>\n",
       "      <th>count</th>\n",
       "      <th>mean</th>\n",
       "      <th>std</th>\n",
       "      <th>min</th>\n",
       "      <th>25%</th>\n",
       "      <th>50%</th>\n",
       "      <th>75%</th>\n",
       "      <th>max</th>\n",
       "    </tr>\n",
       "    <tr>\n",
       "      <th>risk</th>\n",
       "      <th></th>\n",
       "      <th></th>\n",
       "      <th></th>\n",
       "      <th></th>\n",
       "      <th></th>\n",
       "      <th></th>\n",
       "      <th></th>\n",
       "      <th></th>\n",
       "    </tr>\n",
       "  </thead>\n",
       "  <tbody>\n",
       "    <tr>\n",
       "      <th>High</th>\n",
       "      <td>72.00</td>\n",
       "      <td>0.61</td>\n",
       "      <td>0.49</td>\n",
       "      <td>0.00</td>\n",
       "      <td>0.00</td>\n",
       "      <td>1.00</td>\n",
       "      <td>1.00</td>\n",
       "      <td>1.00</td>\n",
       "    </tr>\n",
       "    <tr>\n",
       "      <th>Low</th>\n",
       "      <td>341.00</td>\n",
       "      <td>0.79</td>\n",
       "      <td>0.41</td>\n",
       "      <td>0.00</td>\n",
       "      <td>1.00</td>\n",
       "      <td>1.00</td>\n",
       "      <td>1.00</td>\n",
       "      <td>1.00</td>\n",
       "    </tr>\n",
       "    <tr>\n",
       "      <th>Moderate</th>\n",
       "      <td>587.00</td>\n",
       "      <td>0.68</td>\n",
       "      <td>0.47</td>\n",
       "      <td>0.00</td>\n",
       "      <td>0.00</td>\n",
       "      <td>1.00</td>\n",
       "      <td>1.00</td>\n",
       "      <td>1.00</td>\n",
       "    </tr>\n",
       "  </tbody>\n",
       "</table>\n",
       "</div>"
      ],
      "text/plain": [
       "          count  mean  std  min  25%  50%  75%  max\n",
       "risk                                               \n",
       "High      72.00  0.61 0.49 0.00 0.00 1.00 1.00 1.00\n",
       "Low      341.00  0.79 0.41 0.00 1.00 1.00 1.00 1.00\n",
       "Moderate 587.00  0.68 0.47 0.00 0.00 1.00 1.00 1.00"
      ]
     },
     "execution_count": 42,
     "metadata": {},
     "output_type": "execute_result"
    }
   ],
   "source": [
    "diabetes.groupby('risk')['hydration_level'].describe()"
   ]
  },
  {
   "cell_type": "markdown",
   "id": "b9547fef",
   "metadata": {},
   "source": [
    "People with the lowest hydration level have higher risk od diabetes"
   ]
  },
  {
   "cell_type": "markdown",
   "id": "ede738fa",
   "metadata": {},
   "source": [
    "### bmi"
   ]
  },
  {
   "cell_type": "code",
   "execution_count": 43,
   "id": "09f2556b",
   "metadata": {},
   "outputs": [
    {
     "data": {
      "text/plain": [
       "' Body Mass Index, calculated using the weight and height of the user. BMI is an important indicator of whether an individual is underweight, of normal weight, overweight, or obese, which is directly linked to diabetes risk.'"
      ]
     },
     "execution_count": 43,
     "metadata": {},
     "output_type": "execute_result"
    }
   ],
   "source": [
    "description.Column_Description[11]"
   ]
  },
  {
   "cell_type": "code",
   "execution_count": 44,
   "id": "787cc067",
   "metadata": {},
   "outputs": [
    {
     "data": {
      "image/png": "[encoded data removed]",
      "text/plain": [
       "<Figure size 1080x270 with 2 Axes>"
      ]
     },
     "metadata": {},
     "output_type": "display_data"
    }
   ],
   "source": [
    "plot_var('bmi','bmi')"
   ]
  },
  {
   "cell_type": "code",
   "execution_count": 45,
   "id": "98356c04",
   "metadata": {},
   "outputs": [
    {
     "data": {
      "text/html": [
       "<div>\n",
       "<style scoped>\n",
       "    .dataframe tbody tr th:only-of-type {\n",
       "        vertical-align: middle;\n",
       "    }\n",
       "\n",
       "    .dataframe tbody tr th {\n",
       "        vertical-align: top;\n",
       "    }\n",
       "\n",
       "    .dataframe thead th {\n",
       "        text-align: right;\n",
       "    }\n",
       "</style>\n",
       "<table border=\"1\" class=\"dataframe\">\n",
       "  <thead>\n",
       "    <tr style=\"text-align: right;\">\n",
       "      <th></th>\n",
       "      <th>count</th>\n",
       "      <th>mean</th>\n",
       "      <th>std</th>\n",
       "      <th>min</th>\n",
       "      <th>25%</th>\n",
       "      <th>50%</th>\n",
       "      <th>75%</th>\n",
       "      <th>max</th>\n",
       "    </tr>\n",
       "    <tr>\n",
       "      <th>risk</th>\n",
       "      <th></th>\n",
       "      <th></th>\n",
       "      <th></th>\n",
       "      <th></th>\n",
       "      <th></th>\n",
       "      <th></th>\n",
       "      <th></th>\n",
       "      <th></th>\n",
       "    </tr>\n",
       "  </thead>\n",
       "  <tbody>\n",
       "    <tr>\n",
       "      <th>High</th>\n",
       "      <td>72.00</td>\n",
       "      <td>29.28</td>\n",
       "      <td>6.42</td>\n",
       "      <td>14.50</td>\n",
       "      <td>26.68</td>\n",
       "      <td>30.40</td>\n",
       "      <td>32.60</td>\n",
       "      <td>45.20</td>\n",
       "    </tr>\n",
       "    <tr>\n",
       "      <th>Low</th>\n",
       "      <td>341.00</td>\n",
       "      <td>21.94</td>\n",
       "      <td>3.78</td>\n",
       "      <td>11.50</td>\n",
       "      <td>19.70</td>\n",
       "      <td>21.90</td>\n",
       "      <td>24.10</td>\n",
       "      <td>35.00</td>\n",
       "    </tr>\n",
       "    <tr>\n",
       "      <th>Moderate</th>\n",
       "      <td>587.00</td>\n",
       "      <td>25.21</td>\n",
       "      <td>6.20</td>\n",
       "      <td>10.90</td>\n",
       "      <td>20.50</td>\n",
       "      <td>25.70</td>\n",
       "      <td>29.40</td>\n",
       "      <td>44.80</td>\n",
       "    </tr>\n",
       "  </tbody>\n",
       "</table>\n",
       "</div>"
      ],
      "text/plain": [
       "          count  mean  std   min   25%   50%   75%   max\n",
       "risk                                                    \n",
       "High      72.00 29.28 6.42 14.50 26.68 30.40 32.60 45.20\n",
       "Low      341.00 21.94 3.78 11.50 19.70 21.90 24.10 35.00\n",
       "Moderate 587.00 25.21 6.20 10.90 20.50 25.70 29.40 44.80"
      ]
     },
     "execution_count": 45,
     "metadata": {},
     "output_type": "execute_result"
    }
   ],
   "source": [
    "diabetes.groupby('risk')['bmi'].describe()"
   ]
  },
  {
   "cell_type": "markdown",
   "id": "3e35a470",
   "metadata": {},
   "source": [
    "People with higher BMI have higher diabetes risk"
   ]
  },
  {
   "cell_type": "code",
   "execution_count": 46,
   "id": "1935c205",
   "metadata": {},
   "outputs": [],
   "source": [
    "diabetes = diabetes.drop(['risk'], axis = 1)"
   ]
  },
  {
   "cell_type": "markdown",
   "id": "0ee841e1",
   "metadata": {},
   "source": [
    "## Model training"
   ]
  },
  {
   "cell_type": "markdown",
   "id": "28865250",
   "metadata": {},
   "source": [
    "I will check reggresion models from lazypredict library"
   ]
  },
  {
   "cell_type": "code",
   "execution_count": 47,
   "id": "4565915c",
   "metadata": {},
   "outputs": [],
   "source": [
    "from sklearn.model_selection import train_test_split\n",
    "from lazypredict.Supervised import LazyRegressor"
   ]
  },
  {
   "cell_type": "code",
   "execution_count": 48,
   "id": "afeeb7ed",
   "metadata": {},
   "outputs": [],
   "source": [
    "X = diabetes.drop(['risk_score'], axis=1)\n",
    "y = diabetes['risk_score']"
   ]
  },
  {
   "cell_type": "code",
   "execution_count": 49,
   "id": "16cb61a1",
   "metadata": {},
   "outputs": [],
   "source": [
    "X_train, X_test, y_train, y_test = train_test_split(X, y, test_size=0.2, random_state = 2137)"
   ]
  },
  {
   "cell_type": "code",
   "execution_count": 50,
   "id": "da4474fe",
   "metadata": {},
   "outputs": [
    {
     "name": "stderr",
     "output_type": "stream",
     "text": [
      " 24%|███████████████████▌                                                              | 10/42 [00:00<00:01, 18.83it/s]"
     ]
    },
    {
     "name": "stdout",
     "output_type": "stream",
     "text": [
      "GammaRegressor model failed to execute\n",
      "Some value(s) of y are out of the valid range of the loss 'HalfGammaLoss'.\n"
     ]
    },
    {
     "name": "stderr",
     "output_type": "stream",
     "text": [
      " 79%|████████████████████████████████████████████████████████████████▍                 | 33/42 [00:01<00:00, 21.08it/s]"
     ]
    },
    {
     "name": "stdout",
     "output_type": "stream",
     "text": [
      "QuantileRegressor model failed to execute\n",
      "Solver interior-point is not anymore available in SciPy >= 1.11.0.\n"
     ]
    },
    {
     "name": "stderr",
     "output_type": "stream",
     "text": [
      "100%|██████████████████████████████████████████████████████████████████████████████████| 42/42 [00:02<00:00, 15.12it/s]"
     ]
    },
    {
     "name": "stdout",
     "output_type": "stream",
     "text": [
      "[LightGBM] [Info] Auto-choosing col-wise multi-threading, the overhead of testing was 0.000101 seconds.\n",
      "You can set `force_col_wise=true` to remove the overhead.\n",
      "[LightGBM] [Info] Total Bins 1453\n",
      "[LightGBM] [Info] Number of data points in the train set: 800, number of used features: 10\n",
      "[LightGBM] [Info] Start training from score 36.795153\n",
      "[LightGBM] [Warning] No further splits with positive gain, best gain: -inf\n",
      "[LightGBM] [Warning] No further splits with positive gain, best gain: -inf\n",
      "[LightGBM] [Warning] No further splits with positive gain, best gain: -inf\n",
      "[LightGBM] [Warning] No further splits with positive gain, best gain: -inf\n",
      "[LightGBM] [Warning] No further splits with positive gain, best gain: -inf\n",
      "[LightGBM] [Warning] No further splits with positive gain, best gain: -inf\n",
      "[LightGBM] [Warning] No further splits with positive gain, best gain: -inf\n",
      "[LightGBM] [Warning] No further splits with positive gain, best gain: -inf\n",
      "[LightGBM] [Warning] No further splits with positive gain, best gain: -inf\n",
      "[LightGBM] [Warning] No further splits with positive gain, best gain: -inf\n",
      "[LightGBM] [Warning] No further splits with positive gain, best gain: -inf\n",
      "[LightGBM] [Warning] No further splits with positive gain, best gain: -inf\n",
      "[LightGBM] [Warning] No further splits with positive gain, best gain: -inf\n",
      "[LightGBM] [Warning] No further splits with positive gain, best gain: -inf\n",
      "[LightGBM] [Warning] No further splits with positive gain, best gain: -inf\n",
      "[LightGBM] [Warning] No further splits with positive gain, best gain: -inf\n",
      "[LightGBM] [Warning] No further splits with positive gain, best gain: -inf\n",
      "[LightGBM] [Warning] No further splits with positive gain, best gain: -inf\n",
      "[LightGBM] [Warning] No further splits with positive gain, best gain: -inf\n",
      "[LightGBM] [Warning] No further splits with positive gain, best gain: -inf\n",
      "[LightGBM] [Warning] No further splits with positive gain, best gain: -inf\n",
      "[LightGBM] [Warning] No further splits with positive gain, best gain: -inf\n",
      "[LightGBM] [Warning] No further splits with positive gain, best gain: -inf\n",
      "[LightGBM] [Warning] No further splits with positive gain, best gain: -inf\n",
      "[LightGBM] [Warning] No further splits with positive gain, best gain: -inf\n",
      "[LightGBM] [Warning] No further splits with positive gain, best gain: -inf\n",
      "[LightGBM] [Warning] No further splits with positive gain, best gain: -inf\n",
      "[LightGBM] [Warning] No further splits with positive gain, best gain: -inf\n",
      "[LightGBM] [Warning] No further splits with positive gain, best gain: -inf\n",
      "[LightGBM] [Warning] No further splits with positive gain, best gain: -inf\n",
      "[LightGBM] [Warning] No further splits with positive gain, best gain: -inf\n",
      "[LightGBM] [Warning] No further splits with positive gain, best gain: -inf\n",
      "[LightGBM] [Warning] No further splits with positive gain, best gain: -inf\n",
      "[LightGBM] [Warning] No further splits with positive gain, best gain: -inf\n"
     ]
    },
    {
     "name": "stderr",
     "output_type": "stream",
     "text": [
      "\n"
     ]
    }
   ],
   "source": [
    "reg = LazyRegressor(verbose=0, ignore_warnings=False, custom_metric=None)\n",
    "models, predictions = reg.fit(X_train, X_test, y_train, y_test)"
   ]
  },
  {
   "cell_type": "code",
   "execution_count": 51,
   "id": "398b3c79",
   "metadata": {},
   "outputs": [
    {
     "data": {
      "text/html": [
       "<div>\n",
       "<style scoped>\n",
       "    .dataframe tbody tr th:only-of-type {\n",
       "        vertical-align: middle;\n",
       "    }\n",
       "\n",
       "    .dataframe tbody tr th {\n",
       "        vertical-align: top;\n",
       "    }\n",
       "\n",
       "    .dataframe thead th {\n",
       "        text-align: right;\n",
       "    }\n",
       "</style>\n",
       "<table border=\"1\" class=\"dataframe\">\n",
       "  <thead>\n",
       "    <tr style=\"text-align: right;\">\n",
       "      <th></th>\n",
       "      <th>Adjusted R-Squared</th>\n",
       "      <th>R-Squared</th>\n",
       "      <th>RMSE</th>\n",
       "      <th>Time Taken</th>\n",
       "    </tr>\n",
       "    <tr>\n",
       "      <th>Model</th>\n",
       "      <th></th>\n",
       "      <th></th>\n",
       "      <th></th>\n",
       "      <th></th>\n",
       "    </tr>\n",
       "  </thead>\n",
       "  <tbody>\n",
       "    <tr>\n",
       "      <th>GradientBoostingRegressor</th>\n",
       "      <td>0.98</td>\n",
       "      <td>0.98</td>\n",
       "      <td>2.15</td>\n",
       "      <td>0.23</td>\n",
       "    </tr>\n",
       "    <tr>\n",
       "      <th>HistGradientBoostingRegressor</th>\n",
       "      <td>0.97</td>\n",
       "      <td>0.98</td>\n",
       "      <td>2.26</td>\n",
       "      <td>0.35</td>\n",
       "    </tr>\n",
       "    <tr>\n",
       "      <th>LGBMRegressor</th>\n",
       "      <td>0.97</td>\n",
       "      <td>0.97</td>\n",
       "      <td>2.37</td>\n",
       "      <td>0.12</td>\n",
       "    </tr>\n",
       "    <tr>\n",
       "      <th>XGBRegressor</th>\n",
       "      <td>0.95</td>\n",
       "      <td>0.95</td>\n",
       "      <td>3.28</td>\n",
       "      <td>0.22</td>\n",
       "    </tr>\n",
       "    <tr>\n",
       "      <th>RandomForestRegressor</th>\n",
       "      <td>0.88</td>\n",
       "      <td>0.89</td>\n",
       "      <td>4.81</td>\n",
       "      <td>0.49</td>\n",
       "    </tr>\n",
       "    <tr>\n",
       "      <th>ExtraTreesRegressor</th>\n",
       "      <td>0.87</td>\n",
       "      <td>0.88</td>\n",
       "      <td>4.98</td>\n",
       "      <td>0.24</td>\n",
       "    </tr>\n",
       "    <tr>\n",
       "      <th>BaggingRegressor</th>\n",
       "      <td>0.86</td>\n",
       "      <td>0.87</td>\n",
       "      <td>5.21</td>\n",
       "      <td>0.06</td>\n",
       "    </tr>\n",
       "    <tr>\n",
       "      <th>MLPRegressor</th>\n",
       "      <td>0.81</td>\n",
       "      <td>0.82</td>\n",
       "      <td>6.13</td>\n",
       "      <td>0.37</td>\n",
       "    </tr>\n",
       "    <tr>\n",
       "      <th>DecisionTreeRegressor</th>\n",
       "      <td>0.80</td>\n",
       "      <td>0.81</td>\n",
       "      <td>6.21</td>\n",
       "      <td>0.01</td>\n",
       "    </tr>\n",
       "    <tr>\n",
       "      <th>KNeighborsRegressor</th>\n",
       "      <td>0.79</td>\n",
       "      <td>0.80</td>\n",
       "      <td>6.46</td>\n",
       "      <td>0.01</td>\n",
       "    </tr>\n",
       "    <tr>\n",
       "      <th>SVR</th>\n",
       "      <td>0.78</td>\n",
       "      <td>0.79</td>\n",
       "      <td>6.61</td>\n",
       "      <td>0.05</td>\n",
       "    </tr>\n",
       "    <tr>\n",
       "      <th>AdaBoostRegressor</th>\n",
       "      <td>0.77</td>\n",
       "      <td>0.78</td>\n",
       "      <td>6.76</td>\n",
       "      <td>0.11</td>\n",
       "    </tr>\n",
       "    <tr>\n",
       "      <th>NuSVR</th>\n",
       "      <td>0.76</td>\n",
       "      <td>0.77</td>\n",
       "      <td>6.95</td>\n",
       "      <td>0.04</td>\n",
       "    </tr>\n",
       "    <tr>\n",
       "      <th>HuberRegressor</th>\n",
       "      <td>0.75</td>\n",
       "      <td>0.76</td>\n",
       "      <td>7.06</td>\n",
       "      <td>0.01</td>\n",
       "    </tr>\n",
       "    <tr>\n",
       "      <th>LassoCV</th>\n",
       "      <td>0.75</td>\n",
       "      <td>0.76</td>\n",
       "      <td>7.09</td>\n",
       "      <td>0.07</td>\n",
       "    </tr>\n",
       "    <tr>\n",
       "      <th>RidgeCV</th>\n",
       "      <td>0.75</td>\n",
       "      <td>0.76</td>\n",
       "      <td>7.09</td>\n",
       "      <td>0.01</td>\n",
       "    </tr>\n",
       "    <tr>\n",
       "      <th>LassoLarsIC</th>\n",
       "      <td>0.75</td>\n",
       "      <td>0.76</td>\n",
       "      <td>7.09</td>\n",
       "      <td>0.01</td>\n",
       "    </tr>\n",
       "    <tr>\n",
       "      <th>LassoLarsCV</th>\n",
       "      <td>0.75</td>\n",
       "      <td>0.76</td>\n",
       "      <td>7.09</td>\n",
       "      <td>0.02</td>\n",
       "    </tr>\n",
       "    <tr>\n",
       "      <th>LarsCV</th>\n",
       "      <td>0.75</td>\n",
       "      <td>0.76</td>\n",
       "      <td>7.09</td>\n",
       "      <td>0.02</td>\n",
       "    </tr>\n",
       "    <tr>\n",
       "      <th>Lars</th>\n",
       "      <td>0.75</td>\n",
       "      <td>0.76</td>\n",
       "      <td>7.09</td>\n",
       "      <td>0.01</td>\n",
       "    </tr>\n",
       "    <tr>\n",
       "      <th>LinearRegression</th>\n",
       "      <td>0.75</td>\n",
       "      <td>0.76</td>\n",
       "      <td>7.09</td>\n",
       "      <td>0.01</td>\n",
       "    </tr>\n",
       "    <tr>\n",
       "      <th>TransformedTargetRegressor</th>\n",
       "      <td>0.75</td>\n",
       "      <td>0.76</td>\n",
       "      <td>7.09</td>\n",
       "      <td>0.01</td>\n",
       "    </tr>\n",
       "    <tr>\n",
       "      <th>BayesianRidge</th>\n",
       "      <td>0.75</td>\n",
       "      <td>0.76</td>\n",
       "      <td>7.09</td>\n",
       "      <td>0.01</td>\n",
       "    </tr>\n",
       "    <tr>\n",
       "      <th>Ridge</th>\n",
       "      <td>0.75</td>\n",
       "      <td>0.76</td>\n",
       "      <td>7.10</td>\n",
       "      <td>0.01</td>\n",
       "    </tr>\n",
       "    <tr>\n",
       "      <th>SGDRegressor</th>\n",
       "      <td>0.74</td>\n",
       "      <td>0.75</td>\n",
       "      <td>7.15</td>\n",
       "      <td>0.03</td>\n",
       "    </tr>\n",
       "    <tr>\n",
       "      <th>ElasticNetCV</th>\n",
       "      <td>0.74</td>\n",
       "      <td>0.75</td>\n",
       "      <td>7.19</td>\n",
       "      <td>0.05</td>\n",
       "    </tr>\n",
       "    <tr>\n",
       "      <th>PoissonRegressor</th>\n",
       "      <td>0.73</td>\n",
       "      <td>0.75</td>\n",
       "      <td>7.24</td>\n",
       "      <td>0.01</td>\n",
       "    </tr>\n",
       "    <tr>\n",
       "      <th>LinearSVR</th>\n",
       "      <td>0.73</td>\n",
       "      <td>0.74</td>\n",
       "      <td>7.34</td>\n",
       "      <td>0.01</td>\n",
       "    </tr>\n",
       "    <tr>\n",
       "      <th>LassoLars</th>\n",
       "      <td>0.69</td>\n",
       "      <td>0.71</td>\n",
       "      <td>7.77</td>\n",
       "      <td>0.01</td>\n",
       "    </tr>\n",
       "    <tr>\n",
       "      <th>Lasso</th>\n",
       "      <td>0.69</td>\n",
       "      <td>0.71</td>\n",
       "      <td>7.77</td>\n",
       "      <td>0.01</td>\n",
       "    </tr>\n",
       "    <tr>\n",
       "      <th>OrthogonalMatchingPursuitCV</th>\n",
       "      <td>0.68</td>\n",
       "      <td>0.70</td>\n",
       "      <td>7.90</td>\n",
       "      <td>0.01</td>\n",
       "    </tr>\n",
       "    <tr>\n",
       "      <th>RANSACRegressor</th>\n",
       "      <td>0.63</td>\n",
       "      <td>0.65</td>\n",
       "      <td>8.49</td>\n",
       "      <td>0.09</td>\n",
       "    </tr>\n",
       "    <tr>\n",
       "      <th>ElasticNet</th>\n",
       "      <td>0.62</td>\n",
       "      <td>0.64</td>\n",
       "      <td>8.65</td>\n",
       "      <td>0.01</td>\n",
       "    </tr>\n",
       "    <tr>\n",
       "      <th>ExtraTreeRegressor</th>\n",
       "      <td>0.60</td>\n",
       "      <td>0.62</td>\n",
       "      <td>8.85</td>\n",
       "      <td>0.01</td>\n",
       "    </tr>\n",
       "    <tr>\n",
       "      <th>PassiveAggressiveRegressor</th>\n",
       "      <td>0.57</td>\n",
       "      <td>0.59</td>\n",
       "      <td>9.27</td>\n",
       "      <td>0.01</td>\n",
       "    </tr>\n",
       "    <tr>\n",
       "      <th>TweedieRegressor</th>\n",
       "      <td>0.56</td>\n",
       "      <td>0.59</td>\n",
       "      <td>9.27</td>\n",
       "      <td>0.01</td>\n",
       "    </tr>\n",
       "    <tr>\n",
       "      <th>OrthogonalMatchingPursuit</th>\n",
       "      <td>0.15</td>\n",
       "      <td>0.19</td>\n",
       "      <td>12.97</td>\n",
       "      <td>0.01</td>\n",
       "    </tr>\n",
       "    <tr>\n",
       "      <th>DummyRegressor</th>\n",
       "      <td>-0.07</td>\n",
       "      <td>-0.02</td>\n",
       "      <td>14.54</td>\n",
       "      <td>0.01</td>\n",
       "    </tr>\n",
       "    <tr>\n",
       "      <th>GaussianProcessRegressor</th>\n",
       "      <td>-0.47</td>\n",
       "      <td>-0.40</td>\n",
       "      <td>17.05</td>\n",
       "      <td>0.05</td>\n",
       "    </tr>\n",
       "    <tr>\n",
       "      <th>KernelRidge</th>\n",
       "      <td>-6.02</td>\n",
       "      <td>-5.67</td>\n",
       "      <td>37.23</td>\n",
       "      <td>0.02</td>\n",
       "    </tr>\n",
       "  </tbody>\n",
       "</table>\n",
       "</div>"
      ],
      "text/plain": [
       "                               Adjusted R-Squared  R-Squared  RMSE  Time Taken\n",
       "Model                                                                         \n",
       "GradientBoostingRegressor                    0.98       0.98  2.15        0.23\n",
       "HistGradientBoostingRegressor                0.97       0.98  2.26        0.35\n",
       "LGBMRegressor                                0.97       0.97  2.37        0.12\n",
       "XGBRegressor                                 0.95       0.95  3.28        0.22\n",
       "RandomForestRegressor                        0.88       0.89  4.81        0.49\n",
       "ExtraTreesRegressor                          0.87       0.88  4.98        0.24\n",
       "BaggingRegressor                             0.86       0.87  5.21        0.06\n",
       "MLPRegressor                                 0.81       0.82  6.13        0.37\n",
       "DecisionTreeRegressor                        0.80       0.81  6.21        0.01\n",
       "KNeighborsRegressor                          0.79       0.80  6.46        0.01\n",
       "SVR                                          0.78       0.79  6.61        0.05\n",
       "AdaBoostRegressor                            0.77       0.78  6.76        0.11\n",
       "NuSVR                                        0.76       0.77  6.95        0.04\n",
       "HuberRegressor                               0.75       0.76  7.06        0.01\n",
       "LassoCV                                      0.75       0.76  7.09        0.07\n",
       "RidgeCV                                      0.75       0.76  7.09        0.01\n",
       "LassoLarsIC                                  0.75       0.76  7.09        0.01\n",
       "LassoLarsCV                                  0.75       0.76  7.09        0.02\n",
       "LarsCV                                       0.75       0.76  7.09        0.02\n",
       "Lars                                         0.75       0.76  7.09        0.01\n",
       "LinearRegression                             0.75       0.76  7.09        0.01\n",
       "TransformedTargetRegressor                   0.75       0.76  7.09        0.01\n",
       "BayesianRidge                                0.75       0.76  7.09        0.01\n",
       "Ridge                                        0.75       0.76  7.10        0.01\n",
       "SGDRegressor                                 0.74       0.75  7.15        0.03\n",
       "ElasticNetCV                                 0.74       0.75  7.19        0.05\n",
       "PoissonRegressor                             0.73       0.75  7.24        0.01\n",
       "LinearSVR                                    0.73       0.74  7.34        0.01\n",
       "LassoLars                                    0.69       0.71  7.77        0.01\n",
       "Lasso                                        0.69       0.71  7.77        0.01\n",
       "OrthogonalMatchingPursuitCV                  0.68       0.70  7.90        0.01\n",
       "RANSACRegressor                              0.63       0.65  8.49        0.09\n",
       "ElasticNet                                   0.62       0.64  8.65        0.01\n",
       "ExtraTreeRegressor                           0.60       0.62  8.85        0.01\n",
       "PassiveAggressiveRegressor                   0.57       0.59  9.27        0.01\n",
       "TweedieRegressor                             0.56       0.59  9.27        0.01\n",
       "OrthogonalMatchingPursuit                    0.15       0.19 12.97        0.01\n",
       "DummyRegressor                              -0.07      -0.02 14.54        0.01\n",
       "GaussianProcessRegressor                    -0.47      -0.40 17.05        0.05\n",
       "KernelRidge                                 -6.02      -5.67 37.23        0.02"
      ]
     },
     "execution_count": 51,
     "metadata": {},
     "output_type": "execute_result"
    }
   ],
   "source": [
    "models"
   ]
  }
 ],
 "metadata": {
  "kernelspec": {
   "display_name": "Python 3 (ipykernel)",
   "language": "python",
   "name": "python3"
  },
  "language_info": {
   "codemirror_mode": {
    "name": "ipython",
    "version": 3
   },
   "file_extension": ".py",
   "mimetype": "text/x-python",
   "name": "python",
   "nbconvert_exporter": "python",
   "pygments_lexer": "ipython3",
   "version": "3.11.5"
  }
 },
 "nbformat": 4,
 "nbformat_minor": 5
}
